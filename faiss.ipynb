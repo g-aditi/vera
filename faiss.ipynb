{
 "cells": [
  {
   "cell_type": "code",
   "execution_count": 1,
   "id": "b33babf0-f7bc-4fee-a480-23375d916032",
   "metadata": {},
   "outputs": [],
   "source": [
    "import pandas as pd\n",
    "import numpy as np\n",
    "import os\n",
    "from gensim.models.doc2vec import Doc2Vec, TaggedDocument\n",
    "from nltk.tokenize import word_tokenize"
   ]
  },
  {
   "cell_type": "code",
   "execution_count": 2,
   "id": "6e6d6e18-bd1d-4cf6-9c24-5c0fe4841e09",
   "metadata": {},
   "outputs": [
    {
     "name": "stderr",
     "output_type": "stream",
     "text": [
      "[nltk_data] Downloading package punkt to /home/aganap12/nltk_data...\n",
      "[nltk_data]   Package punkt is already up-to-date!\n"
     ]
    },
    {
     "data": {
      "text/plain": [
       "True"
      ]
     },
     "execution_count": 2,
     "metadata": {},
     "output_type": "execute_result"
    }
   ],
   "source": [
    "import nltk\n",
    "nltk.download('punkt')"
   ]
  },
  {
   "cell_type": "code",
   "execution_count": 3,
   "id": "43dbeaf0-2268-433d-8d59-3a1b91a4dc39",
   "metadata": {},
   "outputs": [],
   "source": [
    "data_directory = './dataset/aws-case-studies-blogs-dataset'\n",
    "file_paths = [os.path.join(data_directory, file) for file in os.listdir(data_directory) if file.endswith('.txt')]"
   ]
  },
  {
   "cell_type": "code",
   "execution_count": 4,
   "id": "61b9cf37-f430-49c3-8614-a8f846610e72",
   "metadata": {},
   "outputs": [],
   "source": [
    "tagged_data = []\n",
    "\n",
    "for i, file_path in enumerate(file_paths):\n",
    "    with open(file_path, 'r', encoding='utf-8') as file:\n",
    "        text = file.read()\n",
    "        words = word_tokenize(text)\n",
    "        words = [word.lower() for word in words]\n",
    "        tagged_data.append(TaggedDocument(words, tags=['doc_' + str(i)]))"
   ]
  },
  {
   "cell_type": "code",
   "execution_count": 5,
   "id": "03111781-2f02-46a8-a985-36c0a8bedf9b",
   "metadata": {},
   "outputs": [],
   "source": [
    "model = Doc2Vec()\n",
    "model.build_vocab(tagged_data)\n",
    "model.train(tagged_data, total_examples=model.corpus_count, epochs=model.epochs)"
   ]
  },
  {
   "cell_type": "code",
   "execution_count": 6,
   "id": "142b3bb4-4e74-4144-95e8-0bb21cae2f27",
   "metadata": {},
   "outputs": [],
   "source": [
    "document_vectors = [model.dv['doc_' + str(i)] for i in range(len(tagged_data))]"
   ]
  },
  {
   "cell_type": "code",
   "execution_count": 7,
   "id": "301340c8-17b7-40a0-93c4-ee3dfece3434",
   "metadata": {},
   "outputs": [
    {
     "data": {
      "text/plain": [
       "100"
      ]
     },
     "execution_count": 7,
     "metadata": {},
     "output_type": "execute_result"
    }
   ],
   "source": [
    "vector_dim = len(document_vectors[0])\n",
    "vector_dim"
   ]
  },
  {
   "cell_type": "code",
   "execution_count": 8,
   "id": "e6d10f25-670e-478c-b25b-e8fc365a9715",
   "metadata": {},
   "outputs": [],
   "source": [
    "import faiss"
   ]
  },
  {
   "cell_type": "code",
   "execution_count": 77,
   "id": "cf24643b-0753-4dd8-b3d0-14ebcc028025",
   "metadata": {},
   "outputs": [],
   "source": [
    "index = faiss.IndexFlatL2(vector_dim)"
   ]
  },
  {
   "cell_type": "code",
   "execution_count": 78,
   "id": "55cc0c72-3a49-4b93-8231-399b338215a1",
   "metadata": {},
   "outputs": [],
   "source": [
    "vectors_np = np.array(document_vectors).astype('float32')"
   ]
  },
  {
   "cell_type": "code",
   "execution_count": 95,
   "id": "6d4356ec-6454-4659-b3cf-acd64df351bb",
   "metadata": {},
   "outputs": [],
   "source": [
    "query = \"Impossible\"\n",
    "query_vector = model.infer_vector(query.lower().split(\" \"))\n",
    "query_vector_np = np.array([query_vector]).astype('float32')\n",
    "k = 5"
   ]
  },
  {
   "cell_type": "code",
   "execution_count": 96,
   "id": "3a7db7b7-0625-45cb-950a-ab2797a223d4",
   "metadata": {},
   "outputs": [
    {
     "name": "stdout",
     "output_type": "stream",
     "text": [
      "query:  Impossible\n",
      "query vector np:  [[-0.01299587 -0.00353058 -0.04049246 -0.00553903 -0.00101143 -0.01854867\n",
      "  -0.00633003  0.01701172 -0.01044346  0.03374536  0.00243368 -0.02397835\n",
      "  -0.01233336 -0.01264377  0.01176688 -0.05135999 -0.00831006  0.01067295\n",
      "  -0.00025316 -0.0420626   0.00578015  0.01724018 -0.01756684  0.02963734\n",
      "  -0.00810184  0.00090881 -0.03945294 -0.03216579 -0.01328333 -0.04100549\n",
      "   0.06391503  0.03699208 -0.00595694 -0.04445992 -0.02976395  0.02315748\n",
      "  -0.00686445 -0.01566941 -0.04087256 -0.0214999   0.02058663 -0.01258939\n",
      "  -0.00606857 -0.05469578  0.0092194  -0.02426293 -0.00903691 -0.01042843\n",
      "   0.00562668 -0.00485665 -0.02114696  0.00989622 -0.04447369 -0.06061672\n",
      "  -0.01748548  0.0466786   0.01143741  0.02421646 -0.03835709  0.03592908\n",
      "   0.044184    0.06704877  0.02986864 -0.02461152 -0.0099878   0.02591041\n",
      "   0.01938703 -0.02415827 -0.05534476 -0.00873513 -0.04166371  0.00113672\n",
      "  -0.02034007 -0.00457506  0.02015191  0.01310941  0.01386276 -0.03367967\n",
      "  -0.02102531  0.00922866  0.02367234  0.02135869 -0.04499161 -0.0012333\n",
      "  -0.01014008  0.02823948  0.03154286 -0.01739075  0.01960402 -0.00731311\n",
      "  -0.02787309  0.06685739 -0.01480388 -0.0497945   0.00542586  0.06743973\n",
      "   0.00019869 -0.00224581  0.06108892 -0.01176471]]\n"
     ]
    }
   ],
   "source": [
    "print(f\"query: \", query)\n",
    "print(f\"query vector np: \", query_vector_np)"
   ]
  },
  {
   "cell_type": "code",
   "execution_count": 103,
   "id": "2107a015-7fc0-4a17-a553-5f2fcc0ea202",
   "metadata": {},
   "outputs": [],
   "source": [
    "index.reset()\n",
    "index.add(vectors_np)\n",
    "distances, indices = index.search(query_vector_np, k)"
   ]
  },
  {
   "cell_type": "code",
   "execution_count": 104,
   "id": "f6e3ccde-a1e3-4531-9236-e7ef4cc1ad2b",
   "metadata": {},
   "outputs": [
    {
     "data": {
      "text/plain": [
       "array([[297, 299, 198, 247, 333]])"
      ]
     },
     "execution_count": 104,
     "metadata": {},
     "output_type": "execute_result"
    }
   ],
   "source": [
    "indices"
   ]
  },
  {
   "cell_type": "code",
   "execution_count": 105,
   "id": "71a1041c-e81e-481b-9f1d-480590ada2ae",
   "metadata": {},
   "outputs": [
    {
     "data": {
      "text/plain": [
       "['./dataset/aws-case-studies-blogs-dataset/Better Mortgage using Amazon Elastic Kubernetes _ Better Mortgage Video _ AWS.txt',\n",
       " './dataset/aws-case-studies-blogs-dataset/TEG on using Machine Learning and Amazon Personalize to boost user engagement and ticket sales _ Ticketek Video _ AWS.txt',\n",
       " './dataset/aws-case-studies-blogs-dataset/Razer Deepened Gamer Engagement using Amazon Personalize _ Video Testimonial _ AWS.txt',\n",
       " './dataset/aws-case-studies-blogs-dataset/DB Energie Case Study.txt',\n",
       " './dataset/aws-case-studies-blogs-dataset/AppsFlyer Amazon EKS Case Study _ Advertising _ AWS.txt']"
      ]
     },
     "execution_count": 105,
     "metadata": {},
     "output_type": "execute_result"
    }
   ],
   "source": [
    "nearest_files = [file_paths[i] for i in indices.flatten()]\n",
    "nearest_files"
   ]
  },
  {
   "cell_type": "code",
   "execution_count": null,
   "id": "42197f05-b669-465e-a81a-67a8a6d30bd6",
   "metadata": {},
   "outputs": [],
   "source": []
  }
 ],
 "metadata": {
  "kernelspec": {
   "display_name": "faiss-env",
   "language": "python",
   "name": "faiss-env"
  },
  "language_info": {
   "codemirror_mode": {
    "name": "ipython",
    "version": 3
   },
   "file_extension": ".py",
   "mimetype": "text/x-python",
   "name": "python",
   "nbconvert_exporter": "python",
   "pygments_lexer": "ipython3",
   "version": "3.11.8"
  }
 },
 "nbformat": 4,
 "nbformat_minor": 5
}
